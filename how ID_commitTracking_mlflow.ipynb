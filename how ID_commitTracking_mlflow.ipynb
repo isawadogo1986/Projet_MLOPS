[33mcommit fb2ba3acf686cc996c426a33a9ff2db257a6ae4e[m[33m ([m[1;36mHEAD[m[33m -> [m[1;32mmain[m[33m)[m
Author: SAWADOGO Issa <issaw1986@gmail.com>
Date:   Sat Oct 11 11:33:25 2025 +0200

    Logistic model  experimentation Tracking_mlflow.ipynb

[33mcommit 2161ef3f11680374c66446a27e459d1cf8efdfc0[m
Author: SAWADOGO Issa <issaw1986@gmail.com>
Date:   Sat Oct 11 09:46:29 2025 +0200

    Random forest experimentation Tracking_mlflow.ipynb

[33mcommit 7dc23e62e06c278151dd7c20e258c905dc6abda3[m
Author: SAWADOGO Issa <issaw1986@gmail.com>
Date:   Fri Oct 10 17:57:57 2025 +0200

    Ajout du notebook Tracking_mlflow.ipynb
