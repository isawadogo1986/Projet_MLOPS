{
 "cells": [
  {
   "cell_type": "markdown",
   "metadata": {},
   "source": [
    "# Setting up Mlflow"
   ]
  },
  {
   "cell_type": "code",
   "execution_count": 1,
   "metadata": {},
   "outputs": [
    {
     "name": "stdout",
     "output_type": "stream",
     "text": [
      "Requirement already satisfied: mlflow in d:\\projet_mlops\\mlops_venv3\\lib\\site-packages (3.4.0)\n",
      "Requirement already satisfied: mlflow-skinny==3.4.0 in d:\\projet_mlops\\mlops_venv3\\lib\\site-packages (from mlflow) (3.4.0)\n",
      "Requirement already satisfied: mlflow-tracing==3.4.0 in d:\\projet_mlops\\mlops_venv3\\lib\\site-packages (from mlflow) (3.4.0)\n",
      "Requirement already satisfied: Flask<4 in d:\\projet_mlops\\mlops_venv3\\lib\\site-packages (from mlflow) (3.1.2)\n",
      "Requirement already satisfied: alembic!=1.10.0,<2 in d:\\projet_mlops\\mlops_venv3\\lib\\site-packages (from mlflow) (1.17.0)\n",
      "Requirement already satisfied: cryptography<46,>=43.0.0 in d:\\projet_mlops\\mlops_venv3\\lib\\site-packages (from mlflow) (45.0.7)\n",
      "Requirement already satisfied: docker<8,>=4.0.0 in d:\\projet_mlops\\mlops_venv3\\lib\\site-packages (from mlflow) (7.1.0)\n",
      "Requirement already satisfied: fastmcp<3,>=2.0.0 in d:\\projet_mlops\\mlops_venv3\\lib\\site-packages (from mlflow) (2.12.4)\n",
      "Requirement already satisfied: graphene<4 in d:\\projet_mlops\\mlops_venv3\\lib\\site-packages (from mlflow) (3.4.3)\n",
      "Requirement already satisfied: matplotlib<4 in d:\\projet_mlops\\mlops_venv3\\lib\\site-packages (from mlflow) (3.10.7)\n",
      "Requirement already satisfied: numpy<3 in d:\\projet_mlops\\mlops_venv3\\lib\\site-packages (from mlflow) (2.3.3)\n",
      "Requirement already satisfied: pandas<3 in d:\\projet_mlops\\mlops_venv3\\lib\\site-packages (from mlflow) (2.3.3)\n",
      "Requirement already satisfied: pyarrow<22,>=4.0.0 in d:\\projet_mlops\\mlops_venv3\\lib\\site-packages (from mlflow) (21.0.0)\n",
      "Requirement already satisfied: scikit-learn<2 in d:\\projet_mlops\\mlops_venv3\\lib\\site-packages (from mlflow) (1.7.2)\n",
      "Requirement already satisfied: scipy<2 in d:\\projet_mlops\\mlops_venv3\\lib\\site-packages (from mlflow) (1.16.2)\n",
      "Requirement already satisfied: sqlalchemy<3,>=1.4.0 in d:\\projet_mlops\\mlops_venv3\\lib\\site-packages (from mlflow) (2.0.44)\n",
      "Requirement already satisfied: waitress<4 in d:\\projet_mlops\\mlops_venv3\\lib\\site-packages (from mlflow) (3.0.2)\n",
      "Requirement already satisfied: cachetools<7,>=5.0.0 in d:\\projet_mlops\\mlops_venv3\\lib\\site-packages (from mlflow-skinny==3.4.0->mlflow) (6.2.0)\n",
      "Requirement already satisfied: click<9,>=7.0 in d:\\projet_mlops\\mlops_venv3\\lib\\site-packages (from mlflow-skinny==3.4.0->mlflow) (8.3.0)\n",
      "Requirement already satisfied: cloudpickle<4 in d:\\projet_mlops\\mlops_venv3\\lib\\site-packages (from mlflow-skinny==3.4.0->mlflow) (3.1.1)\n",
      "Requirement already satisfied: databricks-sdk<1,>=0.20.0 in d:\\projet_mlops\\mlops_venv3\\lib\\site-packages (from mlflow-skinny==3.4.0->mlflow) (0.67.0)\n",
      "Requirement already satisfied: fastapi<1 in d:\\projet_mlops\\mlops_venv3\\lib\\site-packages (from mlflow-skinny==3.4.0->mlflow) (0.119.0)\n",
      "Requirement already satisfied: gitpython<4,>=3.1.9 in d:\\projet_mlops\\mlops_venv3\\lib\\site-packages (from mlflow-skinny==3.4.0->mlflow) (3.1.45)\n",
      "Requirement already satisfied: importlib_metadata!=4.7.0,<9,>=3.7.0 in d:\\projet_mlops\\mlops_venv3\\lib\\site-packages (from mlflow-skinny==3.4.0->mlflow) (8.7.0)\n",
      "Requirement already satisfied: opentelemetry-api<3,>=1.9.0 in d:\\projet_mlops\\mlops_venv3\\lib\\site-packages (from mlflow-skinny==3.4.0->mlflow) (1.37.0)\n",
      "Requirement already satisfied: opentelemetry-proto<3,>=1.9.0 in d:\\projet_mlops\\mlops_venv3\\lib\\site-packages (from mlflow-skinny==3.4.0->mlflow) (1.37.0)\n",
      "Requirement already satisfied: opentelemetry-sdk<3,>=1.9.0 in d:\\projet_mlops\\mlops_venv3\\lib\\site-packages (from mlflow-skinny==3.4.0->mlflow) (1.37.0)\n",
      "Requirement already satisfied: packaging<26 in d:\\projet_mlops\\mlops_venv3\\lib\\site-packages (from mlflow-skinny==3.4.0->mlflow) (25.0)\n",
      "Requirement already satisfied: protobuf<7,>=3.12.0 in d:\\projet_mlops\\mlops_venv3\\lib\\site-packages (from mlflow-skinny==3.4.0->mlflow) (6.32.1)\n",
      "Requirement already satisfied: pydantic<3,>=1.10.8 in d:\\projet_mlops\\mlops_venv3\\lib\\site-packages (from mlflow-skinny==3.4.0->mlflow) (2.12.0)\n",
      "Requirement already satisfied: python-dotenv<2,>=0.19.0 in d:\\projet_mlops\\mlops_venv3\\lib\\site-packages (from mlflow-skinny==3.4.0->mlflow) (1.1.1)\n",
      "Requirement already satisfied: pyyaml<7,>=5.1 in d:\\projet_mlops\\mlops_venv3\\lib\\site-packages (from mlflow-skinny==3.4.0->mlflow) (6.0.3)\n",
      "Requirement already satisfied: requests<3,>=2.17.3 in d:\\projet_mlops\\mlops_venv3\\lib\\site-packages (from mlflow-skinny==3.4.0->mlflow) (2.32.5)\n",
      "Requirement already satisfied: sqlparse<1,>=0.4.0 in d:\\projet_mlops\\mlops_venv3\\lib\\site-packages (from mlflow-skinny==3.4.0->mlflow) (0.5.3)\n",
      "Requirement already satisfied: typing-extensions<5,>=4.0.0 in d:\\projet_mlops\\mlops_venv3\\lib\\site-packages (from mlflow-skinny==3.4.0->mlflow) (4.15.0)\n",
      "Requirement already satisfied: uvicorn<1 in d:\\projet_mlops\\mlops_venv3\\lib\\site-packages (from mlflow-skinny==3.4.0->mlflow) (0.37.0)\n",
      "Requirement already satisfied: Mako in d:\\projet_mlops\\mlops_venv3\\lib\\site-packages (from alembic!=1.10.0,<2->mlflow) (1.3.10)\n",
      "Requirement already satisfied: colorama in d:\\projet_mlops\\mlops_venv3\\lib\\site-packages (from click<9,>=7.0->mlflow-skinny==3.4.0->mlflow) (0.4.6)\n",
      "Requirement already satisfied: cffi>=1.14 in d:\\projet_mlops\\mlops_venv3\\lib\\site-packages (from cryptography<46,>=43.0.0->mlflow) (2.0.0)\n",
      "Requirement already satisfied: google-auth~=2.0 in d:\\projet_mlops\\mlops_venv3\\lib\\site-packages (from databricks-sdk<1,>=0.20.0->mlflow-skinny==3.4.0->mlflow) (2.41.1)\n",
      "Requirement already satisfied: pywin32>=304 in d:\\projet_mlops\\mlops_venv3\\lib\\site-packages (from docker<8,>=4.0.0->mlflow) (311)\n",
      "Requirement already satisfied: urllib3>=1.26.0 in d:\\projet_mlops\\mlops_venv3\\lib\\site-packages (from docker<8,>=4.0.0->mlflow) (2.5.0)\n",
      "Requirement already satisfied: starlette<0.49.0,>=0.40.0 in d:\\projet_mlops\\mlops_venv3\\lib\\site-packages (from fastapi<1->mlflow-skinny==3.4.0->mlflow) (0.48.0)\n",
      "Requirement already satisfied: authlib>=1.5.2 in d:\\projet_mlops\\mlops_venv3\\lib\\site-packages (from fastmcp<3,>=2.0.0->mlflow) (1.6.5)\n",
      "Requirement already satisfied: cyclopts>=3.0.0 in d:\\projet_mlops\\mlops_venv3\\lib\\site-packages (from fastmcp<3,>=2.0.0->mlflow) (3.24.0)\n",
      "Requirement already satisfied: exceptiongroup>=1.2.2 in d:\\projet_mlops\\mlops_venv3\\lib\\site-packages (from fastmcp<3,>=2.0.0->mlflow) (1.3.0)\n",
      "Requirement already satisfied: httpx>=0.28.1 in d:\\projet_mlops\\mlops_venv3\\lib\\site-packages (from fastmcp<3,>=2.0.0->mlflow) (0.28.1)\n",
      "Requirement already satisfied: mcp<2.0.0,>=1.12.4 in d:\\projet_mlops\\mlops_venv3\\lib\\site-packages (from fastmcp<3,>=2.0.0->mlflow) (1.17.0)\n",
      "Requirement already satisfied: openapi-core>=0.19.5 in d:\\projet_mlops\\mlops_venv3\\lib\\site-packages (from fastmcp<3,>=2.0.0->mlflow) (0.19.5)\n",
      "Requirement already satisfied: openapi-pydantic>=0.5.1 in d:\\projet_mlops\\mlops_venv3\\lib\\site-packages (from fastmcp<3,>=2.0.0->mlflow) (0.5.1)\n",
      "Requirement already satisfied: pyperclip>=1.9.0 in d:\\projet_mlops\\mlops_venv3\\lib\\site-packages (from fastmcp<3,>=2.0.0->mlflow) (1.11.0)\n",
      "Requirement already satisfied: rich>=13.9.4 in d:\\projet_mlops\\mlops_venv3\\lib\\site-packages (from fastmcp<3,>=2.0.0->mlflow) (14.2.0)\n",
      "Requirement already satisfied: blinker>=1.9.0 in d:\\projet_mlops\\mlops_venv3\\lib\\site-packages (from Flask<4->mlflow) (1.9.0)\n",
      "Requirement already satisfied: itsdangerous>=2.2.0 in d:\\projet_mlops\\mlops_venv3\\lib\\site-packages (from Flask<4->mlflow) (2.2.0)\n",
      "Requirement already satisfied: jinja2>=3.1.2 in d:\\projet_mlops\\mlops_venv3\\lib\\site-packages (from Flask<4->mlflow) (3.1.6)\n",
      "Requirement already satisfied: markupsafe>=2.1.1 in d:\\projet_mlops\\mlops_venv3\\lib\\site-packages (from Flask<4->mlflow) (3.0.3)\n",
      "Requirement already satisfied: werkzeug>=3.1.0 in d:\\projet_mlops\\mlops_venv3\\lib\\site-packages (from Flask<4->mlflow) (3.1.1)\n",
      "Requirement already satisfied: gitdb<5,>=4.0.1 in d:\\projet_mlops\\mlops_venv3\\lib\\site-packages (from gitpython<4,>=3.1.9->mlflow-skinny==3.4.0->mlflow) (4.0.12)\n",
      "Requirement already satisfied: smmap<6,>=3.0.1 in d:\\projet_mlops\\mlops_venv3\\lib\\site-packages (from gitdb<5,>=4.0.1->gitpython<4,>=3.1.9->mlflow-skinny==3.4.0->mlflow) (5.0.2)\n",
      "Requirement already satisfied: pyasn1-modules>=0.2.1 in d:\\projet_mlops\\mlops_venv3\\lib\\site-packages (from google-auth~=2.0->databricks-sdk<1,>=0.20.0->mlflow-skinny==3.4.0->mlflow) (0.4.2)\n",
      "Requirement already satisfied: rsa<5,>=3.1.4 in d:\\projet_mlops\\mlops_venv3\\lib\\site-packages (from google-auth~=2.0->databricks-sdk<1,>=0.20.0->mlflow-skinny==3.4.0->mlflow) (4.9.1)\n",
      "Requirement already satisfied: graphql-core<3.3,>=3.1 in d:\\projet_mlops\\mlops_venv3\\lib\\site-packages (from graphene<4->mlflow) (3.2.6)\n",
      "Requirement already satisfied: graphql-relay<3.3,>=3.1 in d:\\projet_mlops\\mlops_venv3\\lib\\site-packages (from graphene<4->mlflow) (3.2.0)\n",
      "Requirement already satisfied: python-dateutil<3,>=2.7.0 in d:\\projet_mlops\\mlops_venv3\\lib\\site-packages (from graphene<4->mlflow) (2.9.0.post0)\n",
      "Requirement already satisfied: zipp>=3.20 in d:\\projet_mlops\\mlops_venv3\\lib\\site-packages (from importlib_metadata!=4.7.0,<9,>=3.7.0->mlflow-skinny==3.4.0->mlflow) (3.23.0)\n",
      "Requirement already satisfied: contourpy>=1.0.1 in d:\\projet_mlops\\mlops_venv3\\lib\\site-packages (from matplotlib<4->mlflow) (1.3.3)\n",
      "Requirement already satisfied: cycler>=0.10 in d:\\projet_mlops\\mlops_venv3\\lib\\site-packages (from matplotlib<4->mlflow) (0.12.1)\n",
      "Requirement already satisfied: fonttools>=4.22.0 in d:\\projet_mlops\\mlops_venv3\\lib\\site-packages (from matplotlib<4->mlflow) (4.60.1)\n",
      "Requirement already satisfied: kiwisolver>=1.3.1 in d:\\projet_mlops\\mlops_venv3\\lib\\site-packages (from matplotlib<4->mlflow) (1.4.9)\n",
      "Requirement already satisfied: pillow>=8 in d:\\projet_mlops\\mlops_venv3\\lib\\site-packages (from matplotlib<4->mlflow) (11.3.0)\n",
      "Requirement already satisfied: pyparsing>=3 in d:\\projet_mlops\\mlops_venv3\\lib\\site-packages (from matplotlib<4->mlflow) (3.2.5)\n",
      "Requirement already satisfied: anyio>=4.5 in d:\\projet_mlops\\mlops_venv3\\lib\\site-packages (from mcp<2.0.0,>=1.12.4->fastmcp<3,>=2.0.0->mlflow) (4.11.0)\n",
      "Requirement already satisfied: httpx-sse>=0.4 in d:\\projet_mlops\\mlops_venv3\\lib\\site-packages (from mcp<2.0.0,>=1.12.4->fastmcp<3,>=2.0.0->mlflow) (0.4.3)\n",
      "Requirement already satisfied: jsonschema>=4.20.0 in d:\\projet_mlops\\mlops_venv3\\lib\\site-packages (from mcp<2.0.0,>=1.12.4->fastmcp<3,>=2.0.0->mlflow) (4.25.1)\n",
      "Requirement already satisfied: pydantic-settings>=2.5.2 in d:\\projet_mlops\\mlops_venv3\\lib\\site-packages (from mcp<2.0.0,>=1.12.4->fastmcp<3,>=2.0.0->mlflow) (2.11.0)\n",
      "Requirement already satisfied: python-multipart>=0.0.9 in d:\\projet_mlops\\mlops_venv3\\lib\\site-packages (from mcp<2.0.0,>=1.12.4->fastmcp<3,>=2.0.0->mlflow) (0.0.20)\n",
      "Requirement already satisfied: sse-starlette>=1.6.1 in d:\\projet_mlops\\mlops_venv3\\lib\\site-packages (from mcp<2.0.0,>=1.12.4->fastmcp<3,>=2.0.0->mlflow) (3.0.2)\n",
      "Requirement already satisfied: opentelemetry-semantic-conventions==0.58b0 in d:\\projet_mlops\\mlops_venv3\\lib\\site-packages (from opentelemetry-sdk<3,>=1.9.0->mlflow-skinny==3.4.0->mlflow) (0.58b0)\n",
      "Requirement already satisfied: pytz>=2020.1 in d:\\projet_mlops\\mlops_venv3\\lib\\site-packages (from pandas<3->mlflow) (2025.2)\n",
      "Requirement already satisfied: tzdata>=2022.7 in d:\\projet_mlops\\mlops_venv3\\lib\\site-packages (from pandas<3->mlflow) (2025.2)\n",
      "Requirement already satisfied: annotated-types>=0.6.0 in d:\\projet_mlops\\mlops_venv3\\lib\\site-packages (from pydantic<3,>=1.10.8->mlflow-skinny==3.4.0->mlflow) (0.7.0)\n",
      "Requirement already satisfied: pydantic-core==2.41.1 in d:\\projet_mlops\\mlops_venv3\\lib\\site-packages (from pydantic<3,>=1.10.8->mlflow-skinny==3.4.0->mlflow) (2.41.1)\n",
      "Requirement already satisfied: typing-inspection>=0.4.2 in d:\\projet_mlops\\mlops_venv3\\lib\\site-packages (from pydantic<3,>=1.10.8->mlflow-skinny==3.4.0->mlflow) (0.4.2)\n",
      "Requirement already satisfied: six>=1.5 in d:\\projet_mlops\\mlops_venv3\\lib\\site-packages (from python-dateutil<3,>=2.7.0->graphene<4->mlflow) (1.17.0)\n",
      "Requirement already satisfied: charset_normalizer<4,>=2 in d:\\projet_mlops\\mlops_venv3\\lib\\site-packages (from requests<3,>=2.17.3->mlflow-skinny==3.4.0->mlflow) (3.4.3)\n",
      "Requirement already satisfied: idna<4,>=2.5 in d:\\projet_mlops\\mlops_venv3\\lib\\site-packages (from requests<3,>=2.17.3->mlflow-skinny==3.4.0->mlflow) (3.10)\n",
      "Requirement already satisfied: certifi>=2017.4.17 in d:\\projet_mlops\\mlops_venv3\\lib\\site-packages (from requests<3,>=2.17.3->mlflow-skinny==3.4.0->mlflow) (2025.10.5)\n",
      "Requirement already satisfied: pyasn1>=0.1.3 in d:\\projet_mlops\\mlops_venv3\\lib\\site-packages (from rsa<5,>=3.1.4->google-auth~=2.0->databricks-sdk<1,>=0.20.0->mlflow-skinny==3.4.0->mlflow) (0.6.1)\n",
      "Requirement already satisfied: joblib>=1.2.0 in d:\\projet_mlops\\mlops_venv3\\lib\\site-packages (from scikit-learn<2->mlflow) (1.5.2)\n",
      "Requirement already satisfied: threadpoolctl>=3.1.0 in d:\\projet_mlops\\mlops_venv3\\lib\\site-packages (from scikit-learn<2->mlflow) (3.6.0)\n",
      "Requirement already satisfied: greenlet>=1 in d:\\projet_mlops\\mlops_venv3\\lib\\site-packages (from sqlalchemy<3,>=1.4.0->mlflow) (3.2.4)\n",
      "Requirement already satisfied: sniffio>=1.1 in d:\\projet_mlops\\mlops_venv3\\lib\\site-packages (from anyio>=4.5->mcp<2.0.0,>=1.12.4->fastmcp<3,>=2.0.0->mlflow) (1.3.1)\n",
      "Requirement already satisfied: h11>=0.8 in d:\\projet_mlops\\mlops_venv3\\lib\\site-packages (from uvicorn<1->mlflow-skinny==3.4.0->mlflow) (0.16.0)\n",
      "Requirement already satisfied: pycparser in d:\\projet_mlops\\mlops_venv3\\lib\\site-packages (from cffi>=1.14->cryptography<46,>=43.0.0->mlflow) (2.23)\n",
      "Requirement already satisfied: attrs>=23.1.0 in d:\\projet_mlops\\mlops_venv3\\lib\\site-packages (from cyclopts>=3.0.0->fastmcp<3,>=2.0.0->mlflow) (25.4.0)\n",
      "Requirement already satisfied: docstring-parser>=0.15 in d:\\projet_mlops\\mlops_venv3\\lib\\site-packages (from cyclopts>=3.0.0->fastmcp<3,>=2.0.0->mlflow) (0.17.0)\n",
      "Requirement already satisfied: rich-rst<2.0.0,>=1.3.1 in d:\\projet_mlops\\mlops_venv3\\lib\\site-packages (from cyclopts>=3.0.0->fastmcp<3,>=2.0.0->mlflow) (1.3.1)\n",
      "Requirement already satisfied: docutils in d:\\projet_mlops\\mlops_venv3\\lib\\site-packages (from rich-rst<2.0.0,>=1.3.1->cyclopts>=3.0.0->fastmcp<3,>=2.0.0->mlflow) (0.22.2)\n",
      "Requirement already satisfied: httpcore==1.* in d:\\projet_mlops\\mlops_venv3\\lib\\site-packages (from httpx>=0.28.1->fastmcp<3,>=2.0.0->mlflow) (1.0.9)\n",
      "Requirement already satisfied: jsonschema-specifications>=2023.03.6 in d:\\projet_mlops\\mlops_venv3\\lib\\site-packages (from jsonschema>=4.20.0->mcp<2.0.0,>=1.12.4->fastmcp<3,>=2.0.0->mlflow) (2025.9.1)\n",
      "Requirement already satisfied: referencing>=0.28.4 in d:\\projet_mlops\\mlops_venv3\\lib\\site-packages (from jsonschema>=4.20.0->mcp<2.0.0,>=1.12.4->fastmcp<3,>=2.0.0->mlflow) (0.36.2)\n",
      "Requirement already satisfied: rpds-py>=0.7.1 in d:\\projet_mlops\\mlops_venv3\\lib\\site-packages (from jsonschema>=4.20.0->mcp<2.0.0,>=1.12.4->fastmcp<3,>=2.0.0->mlflow) (0.27.1)\n",
      "Requirement already satisfied: isodate in d:\\projet_mlops\\mlops_venv3\\lib\\site-packages (from openapi-core>=0.19.5->fastmcp<3,>=2.0.0->mlflow) (0.7.2)\n",
      "Requirement already satisfied: jsonschema-path<0.4.0,>=0.3.1 in d:\\projet_mlops\\mlops_venv3\\lib\\site-packages (from openapi-core>=0.19.5->fastmcp<3,>=2.0.0->mlflow) (0.3.4)\n",
      "Requirement already satisfied: more-itertools in d:\\projet_mlops\\mlops_venv3\\lib\\site-packages (from openapi-core>=0.19.5->fastmcp<3,>=2.0.0->mlflow) (10.8.0)\n",
      "Requirement already satisfied: openapi-schema-validator<0.7.0,>=0.6.0 in d:\\projet_mlops\\mlops_venv3\\lib\\site-packages (from openapi-core>=0.19.5->fastmcp<3,>=2.0.0->mlflow) (0.6.3)\n",
      "Requirement already satisfied: openapi-spec-validator<0.8.0,>=0.7.1 in d:\\projet_mlops\\mlops_venv3\\lib\\site-packages (from openapi-core>=0.19.5->fastmcp<3,>=2.0.0->mlflow) (0.7.2)\n",
      "Requirement already satisfied: parse in d:\\projet_mlops\\mlops_venv3\\lib\\site-packages (from openapi-core>=0.19.5->fastmcp<3,>=2.0.0->mlflow) (1.20.2)\n",
      "Requirement already satisfied: pathable<0.5.0,>=0.4.1 in d:\\projet_mlops\\mlops_venv3\\lib\\site-packages (from jsonschema-path<0.4.0,>=0.3.1->openapi-core>=0.19.5->fastmcp<3,>=2.0.0->mlflow) (0.4.4)\n",
      "Requirement already satisfied: rfc3339-validator in d:\\projet_mlops\\mlops_venv3\\lib\\site-packages (from openapi-schema-validator<0.7.0,>=0.6.0->openapi-core>=0.19.5->fastmcp<3,>=2.0.0->mlflow) (0.1.4)\n",
      "Requirement already satisfied: lazy-object-proxy<2.0.0,>=1.7.1 in d:\\projet_mlops\\mlops_venv3\\lib\\site-packages (from openapi-spec-validator<0.8.0,>=0.7.1->openapi-core>=0.19.5->fastmcp<3,>=2.0.0->mlflow) (1.12.0)\n",
      "Requirement already satisfied: email-validator>=2.0.0 in d:\\projet_mlops\\mlops_venv3\\lib\\site-packages (from pydantic[email]>=2.11.7->fastmcp<3,>=2.0.0->mlflow) (2.3.0)\n",
      "Requirement already satisfied: dnspython>=2.0.0 in d:\\projet_mlops\\mlops_venv3\\lib\\site-packages (from email-validator>=2.0.0->pydantic[email]>=2.11.7->fastmcp<3,>=2.0.0->mlflow) (2.8.0)\n",
      "Requirement already satisfied: markdown-it-py>=2.2.0 in d:\\projet_mlops\\mlops_venv3\\lib\\site-packages (from rich>=13.9.4->fastmcp<3,>=2.0.0->mlflow) (4.0.0)\n",
      "Requirement already satisfied: pygments<3.0.0,>=2.13.0 in d:\\projet_mlops\\mlops_venv3\\lib\\site-packages (from rich>=13.9.4->fastmcp<3,>=2.0.0->mlflow) (2.19.2)\n",
      "Requirement already satisfied: mdurl~=0.1 in d:\\projet_mlops\\mlops_venv3\\lib\\site-packages (from markdown-it-py>=2.2.0->rich>=13.9.4->fastmcp<3,>=2.0.0->mlflow) (0.1.2)\n",
      "Requirement already satisfied: jinja2 in d:\\projet_mlops\\mlops_venv3\\lib\\site-packages (3.1.6)\n",
      "Requirement already satisfied: MarkupSafe>=2.0 in d:\\projet_mlops\\mlops_venv3\\lib\\site-packages (from jinja2) (3.0.3)\n",
      "Requirement already satisfied: Flask in d:\\projet_mlops\\mlops_venv3\\lib\\site-packages (3.1.2)\n",
      "Requirement already satisfied: blinker>=1.9.0 in d:\\projet_mlops\\mlops_venv3\\lib\\site-packages (from Flask) (1.9.0)\n",
      "Requirement already satisfied: click>=8.1.3 in d:\\projet_mlops\\mlops_venv3\\lib\\site-packages (from Flask) (8.3.0)\n",
      "Requirement already satisfied: itsdangerous>=2.2.0 in d:\\projet_mlops\\mlops_venv3\\lib\\site-packages (from Flask) (2.2.0)\n",
      "Requirement already satisfied: jinja2>=3.1.2 in d:\\projet_mlops\\mlops_venv3\\lib\\site-packages (from Flask) (3.1.6)\n",
      "Requirement already satisfied: markupsafe>=2.1.1 in d:\\projet_mlops\\mlops_venv3\\lib\\site-packages (from Flask) (3.0.3)\n",
      "Requirement already satisfied: werkzeug>=3.1.0 in d:\\projet_mlops\\mlops_venv3\\lib\\site-packages (from Flask) (3.1.1)\n",
      "Requirement already satisfied: colorama in d:\\projet_mlops\\mlops_venv3\\lib\\site-packages (from click>=8.1.3->Flask) (0.4.6)\n",
      "Requirement already satisfied: setuptools in d:\\projet_mlops\\mlops_venv3\\lib\\site-packages (80.9.0)\n"
     ]
    }
   ],
   "source": [
    "# Install the following librairies (it is better to create a venv (or conda) virtual environment first and install these librairies in it)\n",
    "!pip install mlflow\n",
    "!pip install --upgrade jinja2\n",
    "!pip install --upgrade Flask\n",
    "!pip install setuptools\n",
    "import pandas as pd\n",
    "import numpy as np"
   ]
  },
  {
   "cell_type": "code",
   "execution_count": null,
   "metadata": {},
   "outputs": [],
   "source": [
    "# starts an MLflow server locally.\n",
    "!mlflow server --host 127.0.0.1 --port 8080"
   ]
  },
  {
   "cell_type": "markdown",
   "metadata": {},
   "source": [
    "## Using the MLflow Client API\n"
   ]
  },
  {
   "cell_type": "markdown",
   "metadata": {},
   "source": [
    "- Initiate a new Experiment.\n",
    "\n",
    "- Start Runs within an Experiment.\n",
    "\n",
    "- Document parameters, metrics, and tags for your Runs.\n",
    "\n",
    "- Log artifacts linked to runs, such as models, tables, plots, and more.\n",
    "\n"
   ]
  },
  {
   "cell_type": "code",
   "execution_count": 3,
   "metadata": {},
   "outputs": [
    {
     "name": "stdout",
     "output_type": "stream",
     "text": [
      "Requirement already satisfied: catboost in d:\\projet_mlops\\mlops_venv3\\lib\\site-packages (1.2.8)\n",
      "Requirement already satisfied: graphviz in d:\\projet_mlops\\mlops_venv3\\lib\\site-packages (from catboost) (0.21)\n",
      "Requirement already satisfied: matplotlib in d:\\projet_mlops\\mlops_venv3\\lib\\site-packages (from catboost) (3.10.7)\n",
      "Requirement already satisfied: numpy<3.0,>=1.16.0 in d:\\projet_mlops\\mlops_venv3\\lib\\site-packages (from catboost) (2.3.3)\n",
      "Requirement already satisfied: pandas>=0.24 in d:\\projet_mlops\\mlops_venv3\\lib\\site-packages (from catboost) (2.3.3)\n",
      "Requirement already satisfied: scipy in d:\\projet_mlops\\mlops_venv3\\lib\\site-packages (from catboost) (1.16.2)\n",
      "Requirement already satisfied: plotly in d:\\projet_mlops\\mlops_venv3\\lib\\site-packages (from catboost) (6.3.1)\n",
      "Requirement already satisfied: six in d:\\projet_mlops\\mlops_venv3\\lib\\site-packages (from catboost) (1.17.0)\n",
      "Requirement already satisfied: python-dateutil>=2.8.2 in d:\\projet_mlops\\mlops_venv3\\lib\\site-packages (from pandas>=0.24->catboost) (2.9.0.post0)\n",
      "Requirement already satisfied: pytz>=2020.1 in d:\\projet_mlops\\mlops_venv3\\lib\\site-packages (from pandas>=0.24->catboost) (2025.2)\n",
      "Requirement already satisfied: tzdata>=2022.7 in d:\\projet_mlops\\mlops_venv3\\lib\\site-packages (from pandas>=0.24->catboost) (2025.2)\n",
      "Requirement already satisfied: contourpy>=1.0.1 in d:\\projet_mlops\\mlops_venv3\\lib\\site-packages (from matplotlib->catboost) (1.3.3)\n",
      "Requirement already satisfied: cycler>=0.10 in d:\\projet_mlops\\mlops_venv3\\lib\\site-packages (from matplotlib->catboost) (0.12.1)\n",
      "Requirement already satisfied: fonttools>=4.22.0 in d:\\projet_mlops\\mlops_venv3\\lib\\site-packages (from matplotlib->catboost) (4.60.1)\n",
      "Requirement already satisfied: kiwisolver>=1.3.1 in d:\\projet_mlops\\mlops_venv3\\lib\\site-packages (from matplotlib->catboost) (1.4.9)\n",
      "Requirement already satisfied: packaging>=20.0 in d:\\projet_mlops\\mlops_venv3\\lib\\site-packages (from matplotlib->catboost) (25.0)\n",
      "Requirement already satisfied: pillow>=8 in d:\\projet_mlops\\mlops_venv3\\lib\\site-packages (from matplotlib->catboost) (11.3.0)\n",
      "Requirement already satisfied: pyparsing>=3 in d:\\projet_mlops\\mlops_venv3\\lib\\site-packages (from matplotlib->catboost) (3.2.5)\n",
      "Requirement already satisfied: narwhals>=1.15.1 in d:\\projet_mlops\\mlops_venv3\\lib\\site-packages (from plotly->catboost) (2.7.0)\n",
      "Requirement already satisfied: xgboost in d:\\projet_mlops\\mlops_venv3\\lib\\site-packages (3.0.5)\n",
      "Requirement already satisfied: numpy in d:\\projet_mlops\\mlops_venv3\\lib\\site-packages (from xgboost) (2.3.3)\n",
      "Requirement already satisfied: scipy in d:\\projet_mlops\\mlops_venv3\\lib\\site-packages (from xgboost) (1.16.2)\n",
      "Requirement already satisfied: lightgbm in d:\\projet_mlops\\mlops_venv3\\lib\\site-packages (4.6.0)\n",
      "Requirement already satisfied: numpy>=1.17.0 in d:\\projet_mlops\\mlops_venv3\\lib\\site-packages (from lightgbm) (2.3.3)\n",
      "Requirement already satisfied: scipy in d:\\projet_mlops\\mlops_venv3\\lib\\site-packages (from lightgbm) (1.16.2)\n"
     ]
    }
   ],
   "source": [
    "from mlflow import MlflowClient\n",
    "from pprint import pprint\n",
    "from sklearn.ensemble import RandomForestRegressor\n",
    "from sklearn.linear_model import LogisticRegression\n",
    "!pip install catboost\n",
    "!pip install xgboost\n",
    "!pip install lightgbm\n",
    "from catboost import CatBoostClassifier\n",
    "from xgboost import XGBClassifier"
   ]
  },
  {
   "cell_type": "code",
   "execution_count": 4,
   "metadata": {},
   "outputs": [],
   "source": [
    "# In order to connect to the tracking server, we’ll need to use the uri that we assigned the server when we started it.\n",
    "\n",
    "client = MlflowClient(tracking_uri=\"http://127.0.0.1:8080\")\n",
    "\n",
    "#it allows programmatic interaction with the MLflow tracking server."
   ]
  },
  {
   "cell_type": "markdown",
   "metadata": {},
   "source": [
    "We now have a client interface to the tracking server that can both send data to and retrieve data from the tracking server.\n",
    "\n"
   ]
  },
  {
   "cell_type": "code",
   "execution_count": 5,
   "metadata": {},
   "outputs": [
    {
     "name": "stdout",
     "output_type": "stream",
     "text": [
      "[<Experiment: artifact_location='file:///d:/Projet_MLOps/Projet_MLOPS/mlruns/546722830652984112', creation_time=1760305213585, experiment_id='546722830652984112', last_update_time=1760305213585, lifecycle_stage='active', name='Credit_Default_Model', tags={}>, <Experiment: artifact_location='mlflow-artifacts:/876832469169906264', creation_time=1760277868539, experiment_id='876832469169906264', last_update_time=1760277868539, lifecycle_stage='active', name='Credit_Default_Model', tags={'mlflow.note.content': 'Projet de prédiction de défauts de paiements pour '\n",
      "                        'prêts personnels en banque de détail. Le but est de '\n",
      "                        'construire un modèle qui estime la probabilité de '\n",
      "                        \"défaut pour chaque client, afin d'aider la banque à \"\n",
      "                        'anticiper les pertes et maintenir la stabilité '\n",
      "                        'financière.',\n",
      " 'model_type': 'classification',\n",
      " 'objective': 'default probability and expected loss estimation',\n",
      " 'project_name': 'credit-default-prediction',\n",
      " 'sector': 'retail-banking',\n",
      " 'team': 'risk-analytics'}>, <Experiment: artifact_location='mlflow-artifacts:/0', creation_time=1760276642086, experiment_id='0', last_update_time=1760276642086, lifecycle_stage='active', name='Default', tags={}>]\n"
     ]
    }
   ],
   "source": [
    "all_experiments = client.search_experiments()\n",
    "\n",
    "print(all_experiments)\n"
   ]
  },
  {
   "cell_type": "markdown",
   "metadata": {},
   "source": [
    "### Importation des données"
   ]
  },
  {
   "cell_type": "code",
   "execution_count": 6,
   "metadata": {},
   "outputs": [],
   "source": [
    "!pip install -q gdown"
   ]
  },
  {
   "cell_type": "code",
   "execution_count": 7,
   "metadata": {},
   "outputs": [
    {
     "name": "stderr",
     "output_type": "stream",
     "text": [
      "Downloading...\n",
      "From: https://drive.google.com/uc?id=1YrHUOpWLZdA88tOfus6s8CI8XUDqax3x\n",
      "To: d:\\Projet_MLOps\\Projet_MLOPS\\Loan_Data.csv\n",
      "100%|██████████| 547k/547k [00:00<00:00, 1.71MB/s]\n"
     ]
    },
    {
     "data": {
      "text/html": [
       "<div>\n",
       "<style scoped>\n",
       "    .dataframe tbody tr th:only-of-type {\n",
       "        vertical-align: middle;\n",
       "    }\n",
       "\n",
       "    .dataframe tbody tr th {\n",
       "        vertical-align: top;\n",
       "    }\n",
       "\n",
       "    .dataframe thead th {\n",
       "        text-align: right;\n",
       "    }\n",
       "</style>\n",
       "<table border=\"1\" class=\"dataframe\">\n",
       "  <thead>\n",
       "    <tr style=\"text-align: right;\">\n",
       "      <th></th>\n",
       "      <th>customer_id</th>\n",
       "      <th>credit_lines_outstanding</th>\n",
       "      <th>loan_amt_outstanding</th>\n",
       "      <th>total_debt_outstanding</th>\n",
       "      <th>income</th>\n",
       "      <th>years_employed</th>\n",
       "      <th>fico_score</th>\n",
       "      <th>default</th>\n",
       "    </tr>\n",
       "  </thead>\n",
       "  <tbody>\n",
       "    <tr>\n",
       "      <th>0</th>\n",
       "      <td>8153374</td>\n",
       "      <td>0</td>\n",
       "      <td>5221.545193</td>\n",
       "      <td>3915.471226</td>\n",
       "      <td>78039.38546</td>\n",
       "      <td>5</td>\n",
       "      <td>605</td>\n",
       "      <td>0</td>\n",
       "    </tr>\n",
       "    <tr>\n",
       "      <th>1</th>\n",
       "      <td>7442532</td>\n",
       "      <td>5</td>\n",
       "      <td>1958.928726</td>\n",
       "      <td>8228.752520</td>\n",
       "      <td>26648.43525</td>\n",
       "      <td>2</td>\n",
       "      <td>572</td>\n",
       "      <td>1</td>\n",
       "    </tr>\n",
       "    <tr>\n",
       "      <th>2</th>\n",
       "      <td>2256073</td>\n",
       "      <td>0</td>\n",
       "      <td>3363.009259</td>\n",
       "      <td>2027.830850</td>\n",
       "      <td>65866.71246</td>\n",
       "      <td>4</td>\n",
       "      <td>602</td>\n",
       "      <td>0</td>\n",
       "    </tr>\n",
       "    <tr>\n",
       "      <th>3</th>\n",
       "      <td>4885975</td>\n",
       "      <td>0</td>\n",
       "      <td>4766.648001</td>\n",
       "      <td>2501.730397</td>\n",
       "      <td>74356.88347</td>\n",
       "      <td>5</td>\n",
       "      <td>612</td>\n",
       "      <td>0</td>\n",
       "    </tr>\n",
       "    <tr>\n",
       "      <th>4</th>\n",
       "      <td>4700614</td>\n",
       "      <td>1</td>\n",
       "      <td>1345.827718</td>\n",
       "      <td>1768.826187</td>\n",
       "      <td>23448.32631</td>\n",
       "      <td>6</td>\n",
       "      <td>631</td>\n",
       "      <td>0</td>\n",
       "    </tr>\n",
       "  </tbody>\n",
       "</table>\n",
       "</div>"
      ],
      "text/plain": [
       "   customer_id  credit_lines_outstanding  loan_amt_outstanding  \\\n",
       "0      8153374                         0           5221.545193   \n",
       "1      7442532                         5           1958.928726   \n",
       "2      2256073                         0           3363.009259   \n",
       "3      4885975                         0           4766.648001   \n",
       "4      4700614                         1           1345.827718   \n",
       "\n",
       "   total_debt_outstanding       income  years_employed  fico_score  default  \n",
       "0             3915.471226  78039.38546               5         605        0  \n",
       "1             8228.752520  26648.43525               2         572        1  \n",
       "2             2027.830850  65866.71246               4         602        0  \n",
       "3             2501.730397  74356.88347               5         612        0  \n",
       "4             1768.826187  23448.32631               6         631        0  "
      ]
     },
     "execution_count": 7,
     "metadata": {},
     "output_type": "execute_result"
    }
   ],
   "source": [
    "import gdown\n",
    "import pandas as pd\n",
    "\n",
    "file_id = \"1YrHUOpWLZdA88tOfus6s8CI8XUDqax3x\"\n",
    "url = f\"https://drive.google.com/uc?id={file_id}\"\n",
    "\n",
    "filename = \"Loan_Data.csv\"\n",
    "gdown.download(url, filename, quiet=False)\n",
    "\n",
    "\n",
    "df = pd.read_csv(filename)\n",
    "df.head()"
   ]
  },
  {
   "cell_type": "markdown",
   "metadata": {},
   "source": [
    "### Exploration des données"
   ]
  },
  {
   "cell_type": "code",
   "execution_count": 8,
   "metadata": {},
   "outputs": [
    {
     "data": {
      "text/plain": [
       "customer_id                 0\n",
       "credit_lines_outstanding    0\n",
       "loan_amt_outstanding        0\n",
       "total_debt_outstanding      0\n",
       "income                      0\n",
       "years_employed              0\n",
       "fico_score                  0\n",
       "default                     0\n",
       "dtype: int64"
      ]
     },
     "execution_count": 8,
     "metadata": {},
     "output_type": "execute_result"
    }
   ],
   "source": [
    "df.isna().sum()"
   ]
  },
  {
   "cell_type": "code",
   "execution_count": 9,
   "metadata": {},
   "outputs": [
    {
     "name": "stdout",
     "output_type": "stream",
     "text": [
      "Nombre de lignes en double dans le DataFrame : 0\n"
     ]
    }
   ],
   "source": [
    "# Compter le nombre de lignes en double\n",
    "nombre_de_doublons = df.duplicated().sum()\n",
    "\n",
    "print(f\"Nombre de lignes en double dans le DataFrame : {nombre_de_doublons}\")"
   ]
  },
  {
   "cell_type": "code",
   "execution_count": 10,
   "metadata": {},
   "outputs": [
    {
     "name": "stdout",
     "output_type": "stream",
     "text": [
      "<class 'pandas.core.frame.DataFrame'>\n",
      "RangeIndex: 10000 entries, 0 to 9999\n",
      "Data columns (total 8 columns):\n",
      " #   Column                    Non-Null Count  Dtype  \n",
      "---  ------                    --------------  -----  \n",
      " 0   customer_id               10000 non-null  int64  \n",
      " 1   credit_lines_outstanding  10000 non-null  int64  \n",
      " 2   loan_amt_outstanding      10000 non-null  float64\n",
      " 3   total_debt_outstanding    10000 non-null  float64\n",
      " 4   income                    10000 non-null  float64\n",
      " 5   years_employed            10000 non-null  int64  \n",
      " 6   fico_score                10000 non-null  int64  \n",
      " 7   default                   10000 non-null  int64  \n",
      "dtypes: float64(3), int64(5)\n",
      "memory usage: 625.1 KB\n"
     ]
    }
   ],
   "source": [
    "df.info()"
   ]
  },
  {
   "cell_type": "code",
   "execution_count": 11,
   "metadata": {},
   "outputs": [
    {
     "data": {
      "text/plain": [
       "(10000, 8)"
      ]
     },
     "execution_count": 11,
     "metadata": {},
     "output_type": "execute_result"
    }
   ],
   "source": [
    "df.shape"
   ]
  },
  {
   "cell_type": "markdown",
   "metadata": {},
   "source": [
    "### create an experiment"
   ]
  },
  {
   "cell_type": "code",
   "execution_count": null,
   "metadata": {},
   "outputs": [],
   "source": [
    "# Description détaillée de l'expérience\n",
    "experiment_description = (\n",
    "    \"Projet de prédiction de défauts de paiements pour prêts personnels en banque de détail. \"\n",
    "    \"Le but est de construire un modèle qui estime la probabilité de défaut pour chaque client, \"\n",
    "    \"afin d'aider la banque à anticiper les pertes et maintenir la stabilité financière.\"\n",
    ")\n",
    "\n",
    "# Tags pour faciliter la recherche et l'organisation dans MLflow\n",
    "experiment_tags = {\n",
    "    \"project_name\": \"credit-default-prediction\",\n",
    "    \"sector\": \"retail-banking\",\n",
    "    \"team\": \"risk-analytics\",\n",
    "    \"model_type\": \"classification\",\n",
    "    \"objective\": \"default probability and expected loss estimation\",\n",
    "    \"mlflow.note.content\": experiment_description,\n",
    "}\n",
    "\n",
    "# Création de l'expérience dans MLflow\n",
    "credit_default_experiment = client.create_experiment(\n",
    "    name=\"Credit_Default_Model\", tags=experiment_tags\n",
    ")"
   ]
  },
  {
   "cell_type": "code",
   "execution_count": 13,
   "metadata": {},
   "outputs": [
    {
     "name": "stdout",
     "output_type": "stream",
     "text": [
      "{'_experiment_id': '876832469169906264', '_name': 'Credit_Default_Model', '_artifact_location': 'mlflow-artifacts:/876832469169906264', '_lifecycle_stage': 'active', '_tags': {'mlflow.note.content': \"Projet de prédiction de défauts de paiements pour prêts personnels en banque de détail. Le but est de construire un modèle qui estime la probabilité de défaut pour chaque client, afin d'aider la banque à anticiper les pertes et maintenir la stabilité financière.\", 'model_type': 'classification', 'objective': 'default probability and expected loss estimation', 'project_name': 'credit-default-prediction', 'sector': 'retail-banking', 'team': 'risk-analytics'}, '_creation_time': 1760277868539, '_last_update_time': 1760277868539}\n"
     ]
    }
   ],
   "source": [
    "# Recherche des expériences avec le tag project_name = 'credit-default-prediction'\n",
    "credit_experiments = client.search_experiments(\n",
    "    filter_string=\"tags.`project_name` = 'credit-default-prediction'\"\n",
    ")\n",
    "\n",
    "# Affiche tous les attributs de la première expérience trouvée\n",
    "print(vars(credit_experiments[0]))"
   ]
  },
  {
   "cell_type": "markdown",
   "metadata": {},
   "source": [
    "### Logging our first runs with MLflow"
   ]
  },
  {
   "cell_type": "code",
   "execution_count": 14,
   "metadata": {},
   "outputs": [],
   "source": [
    "import mlflow\n",
    "from sklearn.model_selection import train_test_split\n",
    "from sklearn.ensemble import RandomForestRegressor\n",
    "from sklearn.metrics import mean_absolute_error, mean_squared_error, r2_score"
   ]
  },
  {
   "cell_type": "code",
   "execution_count": 15,
   "metadata": {},
   "outputs": [],
   "source": [
    "# This function call sets the global tracking URI for the current session.\n",
    "# It’s a convenient way to configure the tracking server URI without creating a separate client instance.\n",
    "\n",
    "mlflow.set_tracking_uri(\"http://127.0.0.1:8080\")\n"
   ]
  },
  {
   "cell_type": "code",
   "execution_count": 16,
   "metadata": {},
   "outputs": [],
   "source": [
    "# Définit l'expérience active sur \"Credit_Default_Model\" et retourne ses métadonnées\n",
    "credit_experiment = mlflow.set_experiment(\"Credit_Default_Model\")\n",
    "\n",
    "# Définit un nom pour ce run spécifique d'entraînement\n",
    "run_name = \"credit_rf_test1\"\n",
    "\n",
    "# Définir un chemin d'artifact pour sauvegarder le modèle\n",
    "artifact_path = \"rf_credit1\"\n"
   ]
  },
  {
   "cell_type": "code",
   "execution_count": 17,
   "metadata": {},
   "outputs": [],
   "source": [
    "from sklearn.metrics import accuracy_score, precision_score, recall_score, f1_score, roc_auc_score"
   ]
  },
  {
   "cell_type": "markdown",
   "metadata": {},
   "source": [
    "#### model: random forest"
   ]
  },
  {
   "cell_type": "code",
   "execution_count": 18,
   "metadata": {},
   "outputs": [
    {
     "name": "stderr",
     "output_type": "stream",
     "text": [
      "2025/10/14 19:58:24 WARNING mlflow.models.model: `artifact_path` is deprecated. Please use `name` instead.\n",
      "d:\\Projet_MLOps\\mlops_venv3\\Lib\\site-packages\\mlflow\\types\\utils.py:452: UserWarning: Hint: Inferred schema contains integer column(s). Integer columns in Python cannot represent missing values. If your input data contains missing values at inference time, it will be encoded as floats and will cause a schema enforcement error. The best way to avoid this problem is to infer the model schema based on a realistic data sample (training dataset) that includes missing values. Alternatively, you can declare integer columns as doubles (float64) whenever these columns may have missing values. See `Handling Integers With Missing Values <https://www.mlflow.org/docs/latest/models.html#handling-integers-with-missing-values>`_ for more details.\n",
      "  warnings.warn(\n",
      "d:\\Projet_MLOps\\mlops_venv3\\Lib\\site-packages\\mlflow\\types\\utils.py:452: UserWarning: Hint: Inferred schema contains integer column(s). Integer columns in Python cannot represent missing values. If your input data contains missing values at inference time, it will be encoded as floats and will cause a schema enforcement error. The best way to avoid this problem is to infer the model schema based on a realistic data sample (training dataset) that includes missing values. Alternatively, you can declare integer columns as doubles (float64) whenever these columns may have missing values. See `Handling Integers With Missing Values <https://www.mlflow.org/docs/latest/models.html#handling-integers-with-missing-values>`_ for more details.\n",
      "  warnings.warn(\n"
     ]
    },
    {
     "data": {
      "application/vnd.jupyter.widget-view+json": {
       "model_id": "d18f451f65304d78948d9394a07b7e38",
       "version_major": 2,
       "version_minor": 0
      },
      "text/plain": [
       "Downloading artifacts:   0%|          | 0/7 [00:00<?, ?it/s]"
      ]
     },
     "metadata": {},
     "output_type": "display_data"
    },
    {
     "name": "stdout",
     "output_type": "stream",
     "text": [
      "🏃 View run credit_rf_test1 at: http://127.0.0.1:8080/#/experiments/546722830652984112/runs/2c79cd56c1c34b44956ae8870056a2a1\n",
      "🧪 View experiment at: http://127.0.0.1:8080/#/experiments/546722830652984112\n"
     ]
    }
   ],
   "source": [
    "from sklearn.ensemble import RandomForestClassifier\n",
    "# 1. Séparation des variables et target (on retire customer_id et la cible default)\n",
    "X = df.drop(columns=[\"customer_id\", \"default\"])\n",
    "y = df[\"default\"]\n",
    "\n",
    "# 2. Split train/test\n",
    "X_train, X_val, y_train, y_val = train_test_split(X, y, test_size=0.2, random_state=42)\n",
    "\n",
    "# 3. Paramètres du modèle\n",
    "params = {\n",
    "    \"n_estimators\": 50,\n",
    "    \"max_depth\": 8,\n",
    "    \"min_samples_split\": 10,\n",
    "    \"min_samples_leaf\": 4,\n",
    "    \"bootstrap\": True,\n",
    "    \"oob_score\": False,\n",
    "    \"random_state\": 888,\n",
    "}\n",
    "\n",
    "# 4. Entraînement du modèle de classification\n",
    "rf = RandomForestClassifier(**params)\n",
    "rf.fit(X_train, y_train)\n",
    "\n",
    "# 5. Prédiction des classes et probabilités\n",
    "y_pred = rf.predict(X_val)\n",
    "y_pred_proba = rf.predict_proba(X_val)[:, 1]  # Probabilité de défaut (classe 1)\n",
    "\n",
    "# 6. Calcul des métriques classification\n",
    "metrics = {\n",
    "    \"accuracy\": accuracy_score(y_val, y_pred),\n",
    "    \"precision\": precision_score(y_val, y_pred),\n",
    "    \"recall\": recall_score(y_val, y_pred),\n",
    "    \"f1\": f1_score(y_val, y_pred),\n",
    "    \"auc\": roc_auc_score(y_val, y_pred_proba),\n",
    "}\n",
    "\n",
    "# 7. MLflow : tracking du run & logging des métriques et du modèle\n",
    "with mlflow.start_run(run_name=run_name) as run:\n",
    "    mlflow.log_params(params)\n",
    "    mlflow.log_metrics(metrics)\n",
    "    mlflow.sklearn.log_model(\n",
    "        sk_model=rf, input_example=X_val, artifact_path=artifact_path\n",
    "    )\n"
   ]
  },
  {
   "cell_type": "markdown",
   "metadata": {},
   "source": [
    "#### model: Logistic regression"
   ]
  },
  {
   "cell_type": "code",
   "execution_count": 23,
   "metadata": {},
   "outputs": [],
   "source": [
    "# Définit l'expérience active sur \"Credit_Default_Model\" et retourne ses métadonnées\n",
    "credit_experiment = mlflow.set_experiment(\"Credit_Default_Model\")\n",
    "\n",
    "# Définit un nom pour ce run spécifique d'entraînement (adapté pour logistic regression)\n",
    "run_name = run_name\n",
    "\n",
    "# Définir un chemin d'artifact pour sauvegarder le modèle (nom explicite)\n",
    "artifact_path = artifact_path"
   ]
  },
  {
   "cell_type": "code",
   "execution_count": 31,
   "metadata": {},
   "outputs": [
    {
     "name": "stderr",
     "output_type": "stream",
     "text": [
      "2025/10/14 20:45:26 WARNING mlflow.models.model: `artifact_path` is deprecated. Please use `name` instead.\n"
     ]
    },
    {
     "data": {
      "application/vnd.jupyter.widget-view+json": {
       "model_id": "9a9d0f4d084242448ca50fa7babf4f2d",
       "version_major": 2,
       "version_minor": 0
      },
      "text/plain": [
       "Downloading artifacts:   0%|          | 0/7 [00:00<?, ?it/s]"
      ]
     },
     "metadata": {},
     "output_type": "display_data"
    },
    {
     "name": "stdout",
     "output_type": "stream",
     "text": [
      "🏃 View run credit_logreg_test2 at: http://127.0.0.1:8080/#/experiments/546722830652984112/runs/cca36b5ce2da4d6c80733e476318ee08\n",
      "🧪 View experiment at: http://127.0.0.1:8080/#/experiments/546722830652984112\n"
     ]
    }
   ],
   "source": [
    "from sklearn.model_selection import train_test_split\n",
    "from sklearn.preprocessing import StandardScaler\n",
    "from sklearn.linear_model import LogisticRegression\n",
    "import mlflow\n",
    "from sklearn.metrics import accuracy_score, precision_score, recall_score, f1_score, roc_auc_score\n",
    "\n",
    "# 1. Définition de l'expérience dans MLflow\n",
    "credit_experiment = mlflow.set_experiment(\"Credit_Default_Model\")\n",
    "\n",
    "# 2. Nom spécifique du run\n",
    "run_name = \"credit_logreg_test2\"\n",
    "\n",
    "# 3. Chemin d’enregistrement de l’artifact du modèle\n",
    "artifact_path = \"logreg_credit2\"\n",
    "\n",
    "# 4. Séparation des features et de la cible\n",
    "X = df.drop(columns=[\"customer_id\", \"default\"])\n",
    "y = df[\"default\"]\n",
    "\n",
    "# 5. Split train/test\n",
    "X_train, X_val, y_train, y_val = train_test_split(X, y, test_size=0.2, random_state=42)\n",
    "\n",
    "# 6. Standardisation des données\n",
    "scaler = StandardScaler()\n",
    "X_train_scaled = scaler.fit_transform(X_train)\n",
    "X_val_scaled = scaler.transform(X_val)\n",
    "\n",
    "# 7. Initialisation du modèle de régression logistique SANS pénalité\n",
    "params = {\n",
    "    \"penalty\": None,        # pas de pénalisation/régularisation\n",
    "    \"solver\": \"lbfgs\",\n",
    "    \"max_iter\": 300,\n",
    "    \"random_state\": 888,\n",
    "}\n",
    "\n",
    "logreg = LogisticRegression(**params)\n",
    "logreg.fit(X_train_scaled, y_train)\n",
    "\n",
    "# 1. Prédiction des classes et probabilités\n",
    "y_pred = logreg.predict(X_val_scaled)\n",
    "y_pred_proba = logreg.predict_proba(X_val_scaled)[:, 1]\n",
    "\n",
    "# 2. Calcul des métriques classification\n",
    "metrics = {\n",
    "    \"accuracy\": accuracy_score(y_val, y_pred),\n",
    "    \"precision\": precision_score(y_val, y_pred),\n",
    "    \"recall\": recall_score(y_val, y_pred),\n",
    "    \"f1\": f1_score(y_val, y_pred),\n",
    "    \"auc\": roc_auc_score(y_val, y_pred_proba),\n",
    "}\n",
    "\n",
    "# 3. Tracking dans MLflow (run & log)\n",
    "with mlflow.start_run(run_name=run_name) as run:\n",
    "    mlflow.log_params(params)\n",
    "    mlflow.log_metrics(metrics)\n",
    "    mlflow.sklearn.log_model(\n",
    "        sk_model=logreg,\n",
    "        input_example=X_val_scaled,    # Données standardisées\n",
    "        artifact_path=artifact_path\n",
    "    )"
   ]
  },
  {
   "cell_type": "markdown",
   "metadata": {},
   "source": [
    "#### Model: CatBoost"
   ]
  },
  {
   "cell_type": "code",
   "execution_count": 25,
   "metadata": {},
   "outputs": [],
   "source": [
    "# Définit l'expérience active sur \"Credit_Default_Model\" et retourne ses métadonnées\n",
    "credit_experiment = mlflow.set_experiment(\"Credit_Default_Model\")\n",
    "\n",
    "# Définit un nom explicite pour ce run spécifique d'entraînement (ici : CatBoost classifier)\n",
    "run_name = \"credit_catboost_test1\"\n",
    "\n",
    "# Définir un chemin d'artifact pour sauvegarder le modèle CatBoost\n",
    "artifact_path = \"catboost_credit1\"\n"
   ]
  },
  {
   "cell_type": "code",
   "execution_count": 27,
   "metadata": {},
   "outputs": [
    {
     "name": "stderr",
     "output_type": "stream",
     "text": [
      "2025/10/14 20:17:42 WARNING mlflow.models.model: `artifact_path` is deprecated. Please use `name` instead.\n",
      "2025/10/14 20:17:46 WARNING mlflow.models.model: Model logged without a signature and input example. Please set `input_example` parameter when logging the model to auto infer the model signature.\n"
     ]
    },
    {
     "name": "stdout",
     "output_type": "stream",
     "text": [
      "🏃 View run credit_catboost_test2 at: http://127.0.0.1:8080/#/experiments/546722830652984112/runs/97ef307a9520488c867ca0ae9c4bd8e9\n",
      "🧪 View experiment at: http://127.0.0.1:8080/#/experiments/546722830652984112\n"
     ]
    }
   ],
   "source": [
    "# Séparation des features/cible\n",
    "X = df.drop(columns=[\"customer_id\", \"default\"])\n",
    "y = df[\"default\"]\n",
    "\n",
    "# Split train/test\n",
    "X_train, X_val, y_train, y_val = train_test_split(X, y, test_size=0.2, random_state=42)\n",
    "\n",
    "# Paramètres du modèle CatBoost\n",
    "params = {\n",
    "    \"iterations\": 600,\n",
    "    \"learning_rate\": 0.1,\n",
    "    \"depth\": 8,\n",
    "    \"loss_function\": \"Logloss\",\n",
    "    \"eval_metric\": \"AUC\",\n",
    "    \"random_seed\": 888,\n",
    "    \"verbose\": False\n",
    "}\n",
    "\n",
    "# Entraînement\n",
    "cat_model = CatBoostClassifier(**params)\n",
    "cat_model.fit(X_train, y_train, eval_set=(X_val, y_val))\n",
    "\n",
    "# Prédictions\n",
    "y_pred = cat_model.predict(X_val)\n",
    "y_pred_proba = cat_model.predict_proba(X_val)[:, 1]\n",
    "\n",
    "# Métriques classification.\n",
    "metrics = {\n",
    "    \"accuracy\": accuracy_score(y_val, y_pred),\n",
    "    \"precision\": precision_score(y_val, y_pred),\n",
    "    \"recall\": recall_score(y_val, y_pred),\n",
    "    \"f1\": f1_score(y_val, y_pred),\n",
    "    \"auc\": roc_auc_score(y_val, y_pred_proba),\n",
    "}\n",
    "\n",
    "# MLflow tracking\n",
    "credit_experiment = mlflow.set_experiment(\"Credit_Default_Model\")\n",
    "run_name = \"credit_catboost_test2\"\n",
    "artifact_path = \"catboost_credit2\"\n",
    "\n",
    "with mlflow.start_run(run_name=run_name) as run:\n",
    "    mlflow.log_params(params)\n",
    "    mlflow.log_metrics(metrics)\n",
    "    mlflow.catboost.log_model(\n",
    "        cat_model, artifact_path=artifact_path\n",
    "    )\n"
   ]
  },
  {
   "cell_type": "markdown",
   "metadata": {},
   "source": [
    "## Model: Xgboost"
   ]
  },
  {
   "cell_type": "code",
   "execution_count": 28,
   "metadata": {},
   "outputs": [
    {
     "name": "stderr",
     "output_type": "stream",
     "text": [
      "d:\\Projet_MLOps\\mlops_venv3\\Lib\\site-packages\\xgboost\\training.py:183: UserWarning: [20:21:59] WARNING: C:\\actions-runner\\_work\\xgboost\\xgboost\\src\\learner.cc:738: \n",
      "Parameters: { \"use_label_encoder\" } are not used.\n",
      "\n",
      "  bst.update(dtrain, iteration=i, fobj=obj)\n",
      "2025/10/14 20:22:00 WARNING mlflow.models.model: `artifact_path` is deprecated. Please use `name` instead.\n",
      "d:\\Projet_MLOps\\mlops_venv3\\Lib\\site-packages\\xgboost\\sklearn.py:1028: UserWarning: [20:22:00] WARNING: C:\\actions-runner\\_work\\xgboost\\xgboost\\src\\c_api\\c_api.cc:1427: Saving model in the UBJSON format as default.  You can use file extension: `json`, `ubj` or `deprecated` to choose between formats.\n",
      "  self.get_booster().save_model(fname)\n",
      "2025/10/14 20:22:03 WARNING mlflow.models.model: Model logged without a signature and input example. Please set `input_example` parameter when logging the model to auto infer the model signature.\n"
     ]
    },
    {
     "name": "stdout",
     "output_type": "stream",
     "text": [
      "🏃 View run credit_xgboost_test2 at: http://127.0.0.1:8080/#/experiments/546722830652984112/runs/557e837ee0a54d3fbfef8942f0f1d043\n",
      "🧪 View experiment at: http://127.0.0.1:8080/#/experiments/546722830652984112\n"
     ]
    }
   ],
   "source": [
    "import mlflow\n",
    "import mlflow.xgboost\n",
    "from xgboost import XGBClassifier\n",
    "from sklearn.model_selection import train_test_split\n",
    "from sklearn.metrics import (\n",
    "    accuracy_score, precision_score, recall_score, f1_score, roc_auc_score\n",
    ")\n",
    "\n",
    "# ======================================================\n",
    "# 🔹 1. Définition de l'expérience MLflow\n",
    "# ======================================================\n",
    "credit_experiment = mlflow.set_experiment(\"Credit_Default_Model\")\n",
    "\n",
    "# Nom du run.\n",
    "run_name = \"credit_xgboost_test2\"\n",
    "\n",
    "# Chemin pour sauvegarder le modèle.\n",
    "artifact_path = \"xgboost_credit2\"\n",
    "\n",
    "# ======================================================\n",
    "# 🔹 2. Préparation des données\n",
    "# ======================================================\n",
    "X = df.drop(columns=[\"customer_id\", \"default\"])\n",
    "y = df[\"default\"]\n",
    "\n",
    "# Split train/test\n",
    "X_train, X_val, y_train, y_val = train_test_split(X, y, test_size=0.2, random_state=42)\n",
    "\n",
    "# ======================================================\n",
    "# 🔹 3. Paramètres du modèle XGBoost\n",
    "# ======================================================\n",
    "params = {\n",
    "    \"n_estimators\": 1000,\n",
    "    \"learning_rate\": 0.1,\n",
    "    \"max_depth\": 8,\n",
    "    \"objective\": \"binary:logistic\",\n",
    "    \"eval_metric\": \"auc\",\n",
    "    \"random_state\": 888,\n",
    "    \"use_label_encoder\": False\n",
    "}\n",
    "\n",
    "# ======================================================\n",
    "# 🔹 4. Entraînement du modèle\n",
    "# ======================================================\n",
    "xgb_model = XGBClassifier(**params)\n",
    "xgb_model.fit(X_train, y_train, eval_set=[(X_val, y_val)], verbose=False)\n",
    "\n",
    "# ======================================================\n",
    "# 🔹 5. Évaluation du modèle\n",
    "# ======================================================\n",
    "y_pred = xgb_model.predict(X_val)\n",
    "y_pred_proba = xgb_model.predict_proba(X_val)[:, 1]\n",
    "\n",
    "metrics = {\n",
    "    \"accuracy\": accuracy_score(y_val, y_pred),\n",
    "    \"precision\": precision_score(y_val, y_pred),\n",
    "    \"recall\": recall_score(y_val, y_pred),\n",
    "    \"f1\": f1_score(y_val, y_pred),\n",
    "    \"auc\": roc_auc_score(y_val, y_pred_proba)\n",
    "}\n",
    "\n",
    "# ======================================================\n",
    "# 🔹 6. Tracking avec MLflow\n",
    "# ======================================================\n",
    "with mlflow.start_run(run_name=run_name):\n",
    "    mlflow.log_params(params)\n",
    "    mlflow.log_metrics(metrics)\n",
    "    mlflow.xgboost.log_model(\n",
    "        xgb_model, artifact_path=artifact_path\n",
    "    )\n",
    "\n"
   ]
  },
  {
   "cell_type": "markdown",
   "metadata": {},
   "source": [
    "## Model: LightGBM"
   ]
  },
  {
   "cell_type": "code",
   "execution_count": null,
   "metadata": {},
   "outputs": [
    {
     "name": "stderr",
     "output_type": "stream",
     "text": [
      "2025/10/14 20:28:02 WARNING mlflow.models.model: `artifact_path` is deprecated. Please use `name` instead.\n",
      "2025/10/14 20:28:05 WARNING mlflow.models.model: Model logged without a signature and input example. Please set `input_example` parameter when logging the model to auto infer the model signature.\n"
     ]
    },
    {
     "name": "stdout",
     "output_type": "stream",
     "text": [
      "🏃 View run credit_lightgbm_test2 at: http://127.0.0.1:8080/#/experiments/546722830652984112/runs/19ea8e0bb5564301b1a9ab0dcc3747d4\n",
      "🧪 View experiment at: http://127.0.0.1:8080/#/experiments/546722830652984112\n"
     ]
    }
   ],
   "source": [
    "import mlflow\n",
    "import mlflow.lightgbm\n",
    "import lightgbm as lgb\n",
    "from sklearn.model_selection import train_test_split\n",
    "from sklearn.metrics import (\n",
    "    accuracy_score, precision_score, recall_score, f1_score, roc_auc_score\n",
    ")\n",
    "\n",
    "# ======================================================\n",
    "# 🔹 1. Définition de l'expérience MLflow\n",
    "# ======================================================\n",
    "credit_experiment = mlflow.set_experiment(\"Credit_Default_Model\")\n",
    "\n",
    "run_name = \"credit_lightgbm_test2\"\n",
    "artifact_path = \"lightgbm_credit2\"\n",
    "\n",
    "# ======================================================\n",
    "# 🔹 2. Préparation des données\n",
    "# ======================================================\n",
    "X = df.drop(columns=[\"customer_id\", \"default\"])\n",
    "y = df[\"default\"]\n",
    "\n",
    "# Split train/test\n",
    "X_train, X_val, y_train, y_val = train_test_split(X, y, test_size=0.2, random_state=42)\n",
    "\n",
    "# ======================================================\n",
    "# 🔹 3. Paramètres du modèle LightGBM\n",
    "# ======================================================\n",
    "params = {\n",
    "    \"n_estimators\": 500,\n",
    "    \"learning_rate\": 0.1,\n",
    "    \"max_depth\": 8,\n",
    "    \"objective\": \"binary\",\n",
    "    \"metric\": \"auc\",\n",
    "    \"random_state\": 888,\n",
    "    \"boosting_type\": \"gbdt\",\n",
    "    \"verbosity\": -1\n",
    "}\n",
    "\n",
    "# ======================================================\n",
    "# 🔹 4. Entraînement du modèle\n",
    "# ======================================================\n",
    "lgb_model = lgb.LGBMClassifier(**params)\n",
    "lgb_model.fit(X_train, y_train, eval_set=[(X_val, y_val)], eval_metric=\"auc\")\n",
    "\n",
    "# ======================================================\n",
    "# 🔹 5. Évaluation du modèle\n",
    "# ======================================================\n",
    "y_pred = lgb_model.predict(X_val)\n",
    "y_pred_proba = lgb_model.predict_proba(X_val)[:, 1]\n",
    "\n",
    "metrics = {\n",
    "    \"accuracy\": accuracy_score(y_val, y_pred),\n",
    "    \"precision\": precision_score(y_val, y_pred),\n",
    "    \"recall\": recall_score(y_val, y_pred),\n",
    "    \"f1\": f1_score(y_val, y_pred),\n",
    "    \"auc\": roc_auc_score(y_val, y_pred_proba)\n",
    "}\n",
    "\n",
    "# ======================================================\n",
    "# 🔹 6. Tracking avec MLflow\n",
    "# ======================================================\n",
    "with mlflow.start_run(run_name=run_name):\n",
    "    mlflow.log_params(params)\n",
    "    mlflow.log_metrics(metrics)\n",
    "    mlflow.lightgbm.log_model(\n",
    "        lgb_model, artifact_path=artifact_path \n",
    "    )\n"
   ]
  }
 ],
 "metadata": {
  "kernelspec": {
   "display_name": "mlops_venv3 (3.13.5)",
   "language": "python",
   "name": "python3"
  },
  "language_info": {
   "codemirror_mode": {
    "name": "ipython",
    "version": 3
   },
   "file_extension": ".py",
   "mimetype": "text/x-python",
   "name": "python",
   "nbconvert_exporter": "python",
   "pygments_lexer": "ipython3",
   "version": "3.13.5"
  }
 },
 "nbformat": 4,
 "nbformat_minor": 2
}
